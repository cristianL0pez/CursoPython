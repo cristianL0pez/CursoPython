{
  "nbformat": 4,
  "nbformat_minor": 0,
  "metadata": {
    "colab": {
      "provenance": []
    },
    "kernelspec": {
      "name": "python3",
      "display_name": "Python 3"
    },
    "language_info": {
      "name": "python"
    }
  },
  "cells": [
    {
      "cell_type": "markdown",
      "source": [
        "Ejercicio 1: Tipos de Datos Simples en Python\n",
        "Solicita al usuario que ingrese su nombre, edad y altura. Luego, muestra estos valores en la consola.\n",
        "\n",
        "\n",
        "\n",
        "Ejercicio 2: Tipos de Datos Primitivos Compuestos (Listas)\n",
        "Crea una lista de números y realiza las siguientes operaciones:\n",
        "\n",
        "Imprime el tercer número de la lista.\n",
        "Agrega un nuevo número al final de la lista.\n",
        "Calcula la suma de todos los números en la lista.\n",
        "\n",
        "\n",
        "\n",
        "Ejercicio 3: Operadores Aritméticos en Python\n",
        "Pide al usuario que ingrese dos números. Realiza las siguientes operaciones:\n",
        "\n",
        "Suma los números.\n",
        "Resta el segundo número al primero.\n",
        "Multiplica los números.\n",
        "Divide el primer número entre el segundo.\n",
        "\n",
        "\n",
        "\n",
        "\n",
        "Ejercicio 4: Operadores Lógicos en Python\n",
        "Pregunta al usuario su edad y si es estudiante (responde \"sí\" o \"no\"). Luego, determina si el usuario es mayor de edad y si es un estudiante.\n",
        "\n",
        "\n",
        "\n",
        "Ejercicio 5: Cadenas (clase str)\n",
        "Solicita al usuario que ingrese una palabra. Luego, crea un saludo personalizado utilizando esa palabra y muestra la longitud del saludo.\n",
        "\n",
        "\n",
        "\n",
        "\n",
        "Ejercicio 6: Variables en Python\n",
        "Crea variables para almacenar tu nombre y tu ciudad. Luego, imprime una oración que diga \"Hola, [nombre]. Bienvenido/a a [ciudad]\".\n",
        "\n",
        "\n",
        "\n",
        "\n",
        "Ejercicio 7: Salida por Terminal (print()) en Python\n",
        "Imprime la siguiente tabla utilizando la función print():"
      ],
      "metadata": {
        "id": "UpxN3fUtuea2"
      }
    },
    {
      "cell_type": "code",
      "execution_count": null,
      "metadata": {
        "id": "a_wjW1_Fudj6"
      },
      "outputs": [],
      "source": []
    }
  ]
}